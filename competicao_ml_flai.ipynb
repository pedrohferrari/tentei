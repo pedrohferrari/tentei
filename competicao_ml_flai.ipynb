{
  "nbformat": 4,
  "nbformat_minor": 0,
  "metadata": {
    "colab": {
      "provenance": [],
      "collapsed_sections": [],
      "include_colab_link": true
    },
    "kernelspec": {
      "name": "python3",
      "display_name": "Python 3"
    },
    "language_info": {
      "name": "python"
    }
  },
  "cells": [
    {
      "cell_type": "markdown",
      "metadata": {
        "id": "view-in-github",
        "colab_type": "text"
      },
      "source": [
        "<a href=\"https://colab.research.google.com/github/pedrohferrari/tentei/blob/main/competicao_ml_flai.ipynb\" target=\"_parent\"><img src=\"https://colab.research.google.com/assets/colab-badge.svg\" alt=\"Open In Colab\"/></a>"
      ]
    },
    {
      "cell_type": "code",
      "metadata": {
        "id": "K-6KpfTVtz7x"
      },
      "source": [
        "url_treino = 'https://raw.githubusercontent.com/pedrohferrari/competicao-ml-flai/main/treino.csv'\n",
        "url_teste =  'https://raw.githubusercontent.com/pedrohferrari/competicao-ml-flai/main/teste.csv'"
      ],
      "execution_count": null,
      "outputs": []
    },
    {
      "cell_type": "code",
      "metadata": {
        "id": "Ng59hr2GuIMn",
        "colab": {
          "base_uri": "https://localhost:8080/",
          "height": 380
        },
        "outputId": "5feefcc6-2626-4f30-9940-13d63ae6fe7e"
      },
      "source": [
        "import pandas as pd\n",
        "\n",
        "dados_treino = pd.read_csv(r\"C:\\Users\\PH9\\Documents\\WA_Fn-UseC_-Telco-Customer-Churn.csv\")\n",
        "\n",
        "dados_teste = pd.read_csv(url_teste)"
      ],
      "execution_count": null,
      "outputs": [
        {
          "output_type": "error",
          "ename": "FileNotFoundError",
          "evalue": "ignored",
          "traceback": [
            "\u001b[0;31m---------------------------------------------------------------------------\u001b[0m",
            "\u001b[0;31mFileNotFoundError\u001b[0m                         Traceback (most recent call last)",
            "\u001b[0;32m<ipython-input-4-ad0baaf3e5bc>\u001b[0m in \u001b[0;36m<module>\u001b[0;34m\u001b[0m\n\u001b[1;32m      1\u001b[0m \u001b[0;32mimport\u001b[0m \u001b[0mpandas\u001b[0m \u001b[0;32mas\u001b[0m \u001b[0mpd\u001b[0m\u001b[0;34m\u001b[0m\u001b[0;34m\u001b[0m\u001b[0m\n\u001b[1;32m      2\u001b[0m \u001b[0;34m\u001b[0m\u001b[0m\n\u001b[0;32m----> 3\u001b[0;31m \u001b[0mdados_treino\u001b[0m \u001b[0;34m=\u001b[0m \u001b[0mpd\u001b[0m\u001b[0;34m.\u001b[0m\u001b[0mread_csv\u001b[0m\u001b[0;34m(\u001b[0m\u001b[0;34mr\"C:\\Users\\PH9\\Documents\\WA_Fn-UseC_-Telco-Customer-Churn.csv\"\u001b[0m\u001b[0;34m)\u001b[0m\u001b[0;34m\u001b[0m\u001b[0;34m\u001b[0m\u001b[0m\n\u001b[0m\u001b[1;32m      4\u001b[0m \u001b[0;34m\u001b[0m\u001b[0m\n\u001b[1;32m      5\u001b[0m \u001b[0mdados_teste\u001b[0m \u001b[0;34m=\u001b[0m \u001b[0mpd\u001b[0m\u001b[0;34m.\u001b[0m\u001b[0mread_csv\u001b[0m\u001b[0;34m(\u001b[0m\u001b[0murl_teste\u001b[0m\u001b[0;34m)\u001b[0m\u001b[0;34m\u001b[0m\u001b[0;34m\u001b[0m\u001b[0m\n",
            "\u001b[0;32m/usr/local/lib/python3.7/dist-packages/pandas/util/_decorators.py\u001b[0m in \u001b[0;36mwrapper\u001b[0;34m(*args, **kwargs)\u001b[0m\n\u001b[1;32m    309\u001b[0m                     \u001b[0mstacklevel\u001b[0m\u001b[0;34m=\u001b[0m\u001b[0mstacklevel\u001b[0m\u001b[0;34m,\u001b[0m\u001b[0;34m\u001b[0m\u001b[0;34m\u001b[0m\u001b[0m\n\u001b[1;32m    310\u001b[0m                 )\n\u001b[0;32m--> 311\u001b[0;31m             \u001b[0;32mreturn\u001b[0m \u001b[0mfunc\u001b[0m\u001b[0;34m(\u001b[0m\u001b[0;34m*\u001b[0m\u001b[0margs\u001b[0m\u001b[0;34m,\u001b[0m \u001b[0;34m**\u001b[0m\u001b[0mkwargs\u001b[0m\u001b[0;34m)\u001b[0m\u001b[0;34m\u001b[0m\u001b[0;34m\u001b[0m\u001b[0m\n\u001b[0m\u001b[1;32m    312\u001b[0m \u001b[0;34m\u001b[0m\u001b[0m\n\u001b[1;32m    313\u001b[0m         \u001b[0;32mreturn\u001b[0m \u001b[0mwrapper\u001b[0m\u001b[0;34m\u001b[0m\u001b[0;34m\u001b[0m\u001b[0m\n",
            "\u001b[0;32m/usr/local/lib/python3.7/dist-packages/pandas/io/parsers/readers.py\u001b[0m in \u001b[0;36mread_csv\u001b[0;34m(filepath_or_buffer, sep, delimiter, header, names, index_col, usecols, squeeze, prefix, mangle_dupe_cols, dtype, engine, converters, true_values, false_values, skipinitialspace, skiprows, skipfooter, nrows, na_values, keep_default_na, na_filter, verbose, skip_blank_lines, parse_dates, infer_datetime_format, keep_date_col, date_parser, dayfirst, cache_dates, iterator, chunksize, compression, thousands, decimal, lineterminator, quotechar, quoting, doublequote, escapechar, comment, encoding, encoding_errors, dialect, error_bad_lines, warn_bad_lines, on_bad_lines, delim_whitespace, low_memory, memory_map, float_precision, storage_options)\u001b[0m\n\u001b[1;32m    584\u001b[0m     \u001b[0mkwds\u001b[0m\u001b[0;34m.\u001b[0m\u001b[0mupdate\u001b[0m\u001b[0;34m(\u001b[0m\u001b[0mkwds_defaults\u001b[0m\u001b[0;34m)\u001b[0m\u001b[0;34m\u001b[0m\u001b[0;34m\u001b[0m\u001b[0m\n\u001b[1;32m    585\u001b[0m \u001b[0;34m\u001b[0m\u001b[0m\n\u001b[0;32m--> 586\u001b[0;31m     \u001b[0;32mreturn\u001b[0m \u001b[0m_read\u001b[0m\u001b[0;34m(\u001b[0m\u001b[0mfilepath_or_buffer\u001b[0m\u001b[0;34m,\u001b[0m \u001b[0mkwds\u001b[0m\u001b[0;34m)\u001b[0m\u001b[0;34m\u001b[0m\u001b[0;34m\u001b[0m\u001b[0m\n\u001b[0m\u001b[1;32m    587\u001b[0m \u001b[0;34m\u001b[0m\u001b[0m\n\u001b[1;32m    588\u001b[0m \u001b[0;34m\u001b[0m\u001b[0m\n",
            "\u001b[0;32m/usr/local/lib/python3.7/dist-packages/pandas/io/parsers/readers.py\u001b[0m in \u001b[0;36m_read\u001b[0;34m(filepath_or_buffer, kwds)\u001b[0m\n\u001b[1;32m    480\u001b[0m \u001b[0;34m\u001b[0m\u001b[0m\n\u001b[1;32m    481\u001b[0m     \u001b[0;31m# Create the parser.\u001b[0m\u001b[0;34m\u001b[0m\u001b[0;34m\u001b[0m\u001b[0;34m\u001b[0m\u001b[0m\n\u001b[0;32m--> 482\u001b[0;31m     \u001b[0mparser\u001b[0m \u001b[0;34m=\u001b[0m \u001b[0mTextFileReader\u001b[0m\u001b[0;34m(\u001b[0m\u001b[0mfilepath_or_buffer\u001b[0m\u001b[0;34m,\u001b[0m \u001b[0;34m**\u001b[0m\u001b[0mkwds\u001b[0m\u001b[0;34m)\u001b[0m\u001b[0;34m\u001b[0m\u001b[0;34m\u001b[0m\u001b[0m\n\u001b[0m\u001b[1;32m    483\u001b[0m \u001b[0;34m\u001b[0m\u001b[0m\n\u001b[1;32m    484\u001b[0m     \u001b[0;32mif\u001b[0m \u001b[0mchunksize\u001b[0m \u001b[0;32mor\u001b[0m \u001b[0miterator\u001b[0m\u001b[0;34m:\u001b[0m\u001b[0;34m\u001b[0m\u001b[0;34m\u001b[0m\u001b[0m\n",
            "\u001b[0;32m/usr/local/lib/python3.7/dist-packages/pandas/io/parsers/readers.py\u001b[0m in \u001b[0;36m__init__\u001b[0;34m(self, f, engine, **kwds)\u001b[0m\n\u001b[1;32m    809\u001b[0m             \u001b[0mself\u001b[0m\u001b[0;34m.\u001b[0m\u001b[0moptions\u001b[0m\u001b[0;34m[\u001b[0m\u001b[0;34m\"has_index_names\"\u001b[0m\u001b[0;34m]\u001b[0m \u001b[0;34m=\u001b[0m \u001b[0mkwds\u001b[0m\u001b[0;34m[\u001b[0m\u001b[0;34m\"has_index_names\"\u001b[0m\u001b[0;34m]\u001b[0m\u001b[0;34m\u001b[0m\u001b[0;34m\u001b[0m\u001b[0m\n\u001b[1;32m    810\u001b[0m \u001b[0;34m\u001b[0m\u001b[0m\n\u001b[0;32m--> 811\u001b[0;31m         \u001b[0mself\u001b[0m\u001b[0;34m.\u001b[0m\u001b[0m_engine\u001b[0m \u001b[0;34m=\u001b[0m \u001b[0mself\u001b[0m\u001b[0;34m.\u001b[0m\u001b[0m_make_engine\u001b[0m\u001b[0;34m(\u001b[0m\u001b[0mself\u001b[0m\u001b[0;34m.\u001b[0m\u001b[0mengine\u001b[0m\u001b[0;34m)\u001b[0m\u001b[0;34m\u001b[0m\u001b[0;34m\u001b[0m\u001b[0m\n\u001b[0m\u001b[1;32m    812\u001b[0m \u001b[0;34m\u001b[0m\u001b[0m\n\u001b[1;32m    813\u001b[0m     \u001b[0;32mdef\u001b[0m \u001b[0mclose\u001b[0m\u001b[0;34m(\u001b[0m\u001b[0mself\u001b[0m\u001b[0;34m)\u001b[0m\u001b[0;34m:\u001b[0m\u001b[0;34m\u001b[0m\u001b[0;34m\u001b[0m\u001b[0m\n",
            "\u001b[0;32m/usr/local/lib/python3.7/dist-packages/pandas/io/parsers/readers.py\u001b[0m in \u001b[0;36m_make_engine\u001b[0;34m(self, engine)\u001b[0m\n\u001b[1;32m   1038\u001b[0m             )\n\u001b[1;32m   1039\u001b[0m         \u001b[0;31m# error: Too many arguments for \"ParserBase\"\u001b[0m\u001b[0;34m\u001b[0m\u001b[0;34m\u001b[0m\u001b[0;34m\u001b[0m\u001b[0m\n\u001b[0;32m-> 1040\u001b[0;31m         \u001b[0;32mreturn\u001b[0m \u001b[0mmapping\u001b[0m\u001b[0;34m[\u001b[0m\u001b[0mengine\u001b[0m\u001b[0;34m]\u001b[0m\u001b[0;34m(\u001b[0m\u001b[0mself\u001b[0m\u001b[0;34m.\u001b[0m\u001b[0mf\u001b[0m\u001b[0;34m,\u001b[0m \u001b[0;34m**\u001b[0m\u001b[0mself\u001b[0m\u001b[0;34m.\u001b[0m\u001b[0moptions\u001b[0m\u001b[0;34m)\u001b[0m  \u001b[0;31m# type: ignore[call-arg]\u001b[0m\u001b[0;34m\u001b[0m\u001b[0;34m\u001b[0m\u001b[0m\n\u001b[0m\u001b[1;32m   1041\u001b[0m \u001b[0;34m\u001b[0m\u001b[0m\n\u001b[1;32m   1042\u001b[0m     \u001b[0;32mdef\u001b[0m \u001b[0m_failover_to_python\u001b[0m\u001b[0;34m(\u001b[0m\u001b[0mself\u001b[0m\u001b[0;34m)\u001b[0m\u001b[0;34m:\u001b[0m\u001b[0;34m\u001b[0m\u001b[0;34m\u001b[0m\u001b[0m\n",
            "\u001b[0;32m/usr/local/lib/python3.7/dist-packages/pandas/io/parsers/c_parser_wrapper.py\u001b[0m in \u001b[0;36m__init__\u001b[0;34m(self, src, **kwds)\u001b[0m\n\u001b[1;32m     49\u001b[0m \u001b[0;34m\u001b[0m\u001b[0m\n\u001b[1;32m     50\u001b[0m         \u001b[0;31m# open handles\u001b[0m\u001b[0;34m\u001b[0m\u001b[0;34m\u001b[0m\u001b[0;34m\u001b[0m\u001b[0m\n\u001b[0;32m---> 51\u001b[0;31m         \u001b[0mself\u001b[0m\u001b[0;34m.\u001b[0m\u001b[0m_open_handles\u001b[0m\u001b[0;34m(\u001b[0m\u001b[0msrc\u001b[0m\u001b[0;34m,\u001b[0m \u001b[0mkwds\u001b[0m\u001b[0;34m)\u001b[0m\u001b[0;34m\u001b[0m\u001b[0;34m\u001b[0m\u001b[0m\n\u001b[0m\u001b[1;32m     52\u001b[0m         \u001b[0;32massert\u001b[0m \u001b[0mself\u001b[0m\u001b[0;34m.\u001b[0m\u001b[0mhandles\u001b[0m \u001b[0;32mis\u001b[0m \u001b[0;32mnot\u001b[0m \u001b[0;32mNone\u001b[0m\u001b[0;34m\u001b[0m\u001b[0;34m\u001b[0m\u001b[0m\n\u001b[1;32m     53\u001b[0m \u001b[0;34m\u001b[0m\u001b[0m\n",
            "\u001b[0;32m/usr/local/lib/python3.7/dist-packages/pandas/io/parsers/base_parser.py\u001b[0m in \u001b[0;36m_open_handles\u001b[0;34m(self, src, kwds)\u001b[0m\n\u001b[1;32m    227\u001b[0m             \u001b[0mmemory_map\u001b[0m\u001b[0;34m=\u001b[0m\u001b[0mkwds\u001b[0m\u001b[0;34m.\u001b[0m\u001b[0mget\u001b[0m\u001b[0;34m(\u001b[0m\u001b[0;34m\"memory_map\"\u001b[0m\u001b[0;34m,\u001b[0m \u001b[0;32mFalse\u001b[0m\u001b[0;34m)\u001b[0m\u001b[0;34m,\u001b[0m\u001b[0;34m\u001b[0m\u001b[0;34m\u001b[0m\u001b[0m\n\u001b[1;32m    228\u001b[0m             \u001b[0mstorage_options\u001b[0m\u001b[0;34m=\u001b[0m\u001b[0mkwds\u001b[0m\u001b[0;34m.\u001b[0m\u001b[0mget\u001b[0m\u001b[0;34m(\u001b[0m\u001b[0;34m\"storage_options\"\u001b[0m\u001b[0;34m,\u001b[0m \u001b[0;32mNone\u001b[0m\u001b[0;34m)\u001b[0m\u001b[0;34m,\u001b[0m\u001b[0;34m\u001b[0m\u001b[0;34m\u001b[0m\u001b[0m\n\u001b[0;32m--> 229\u001b[0;31m             \u001b[0merrors\u001b[0m\u001b[0;34m=\u001b[0m\u001b[0mkwds\u001b[0m\u001b[0;34m.\u001b[0m\u001b[0mget\u001b[0m\u001b[0;34m(\u001b[0m\u001b[0;34m\"encoding_errors\"\u001b[0m\u001b[0;34m,\u001b[0m \u001b[0;34m\"strict\"\u001b[0m\u001b[0;34m)\u001b[0m\u001b[0;34m,\u001b[0m\u001b[0;34m\u001b[0m\u001b[0;34m\u001b[0m\u001b[0m\n\u001b[0m\u001b[1;32m    230\u001b[0m         )\n\u001b[1;32m    231\u001b[0m \u001b[0;34m\u001b[0m\u001b[0m\n",
            "\u001b[0;32m/usr/local/lib/python3.7/dist-packages/pandas/io/common.py\u001b[0m in \u001b[0;36mget_handle\u001b[0;34m(path_or_buf, mode, encoding, compression, memory_map, is_text, errors, storage_options)\u001b[0m\n\u001b[1;32m    705\u001b[0m                 \u001b[0mencoding\u001b[0m\u001b[0;34m=\u001b[0m\u001b[0mioargs\u001b[0m\u001b[0;34m.\u001b[0m\u001b[0mencoding\u001b[0m\u001b[0;34m,\u001b[0m\u001b[0;34m\u001b[0m\u001b[0;34m\u001b[0m\u001b[0m\n\u001b[1;32m    706\u001b[0m                 \u001b[0merrors\u001b[0m\u001b[0;34m=\u001b[0m\u001b[0merrors\u001b[0m\u001b[0;34m,\u001b[0m\u001b[0;34m\u001b[0m\u001b[0;34m\u001b[0m\u001b[0m\n\u001b[0;32m--> 707\u001b[0;31m                 \u001b[0mnewline\u001b[0m\u001b[0;34m=\u001b[0m\u001b[0;34m\"\"\u001b[0m\u001b[0;34m,\u001b[0m\u001b[0;34m\u001b[0m\u001b[0;34m\u001b[0m\u001b[0m\n\u001b[0m\u001b[1;32m    708\u001b[0m             )\n\u001b[1;32m    709\u001b[0m         \u001b[0;32melse\u001b[0m\u001b[0;34m:\u001b[0m\u001b[0;34m\u001b[0m\u001b[0;34m\u001b[0m\u001b[0m\n",
            "\u001b[0;31mFileNotFoundError\u001b[0m: [Errno 2] No such file or directory: 'C:\\\\Users\\\\PH9\\\\Documents\\\\WA_Fn-UseC_-Telco-Customer-Churn.csv'"
          ]
        }
      ]
    },
    {
      "cell_type": "code",
      "metadata": {
        "id": "Mr4XpI-uKoZ_"
      },
      "source": [
        "dados_teste"
      ],
      "execution_count": null,
      "outputs": []
    },
    {
      "cell_type": "code",
      "metadata": {
        "id": "Yvzlw0rvKvdK"
      },
      "source": [
        "dados_treino['tenure_agrupado'] = create_bin_column(dados_treino, 'tenure', [0,14,45,999], ['0 a 14', '15 a 45', 'mais de 46'])\n",
        "\n",
        "listainternet = {'No': 'No', 'DSL': 'Yes', 'Fiber optic': 'Yes'}\n",
        "\n",
        "dados_treino['InternetService_agrupado'] = dados_treino['InternetService'].map(listainternet)\n",
        "\n",
        "columns_list = dados_treino.columns.to_list()\n",
        "\n",
        "dados_treino.drop(columns= ['OnlineSecurity', 'OnlineBackup', 'DeviceProtection', 'TechSupport', 'StreamingTV', 'StreamingMovies', 'InternetService_agrupado'])\n",
        "\n",
        "dicionario = {'Yes': 1, 'No': 0}\n",
        "dados_treino['Genero'] = dados_treino['gender'].map({'Male': 1, 'Female': 0}).astype(int)\n",
        "\n",
        "dados_treino['Parceiro'] = dados_treino['Partner'].map(dicionario)\n",
        "dados_treino['Dependente'] = dados_treino['Dependents'].map(dicionario)\n",
        "dados_treino['TemServicoTelefonico'] = dados_treino['PhoneService'].map(dicionario)\n",
        "dados_treino['ContaSemPapel'] = dado era s_treino['PaperlessBilling'].map(dicionario)\n",
        "dados_treino['ClienteNovo'] = dados_treino['Cliente'].map({'Normal': 0, 'Premium':1})\n",
        "\n",
        "dummies = ['MultipleLines', 'InternetService', 'Contract', 'PaymentMethod', 'tenure_agrupado']\n",
        "\n",
        "dados_treino = pd.get_dummies(dados_treino, columns= dummies, drop_first=True)"
      ],
      "execution_count": null,
      "outputs": []
    },
    {
      "cell_type": "code",
      "metadata": {
        "id": "ILK6D2ZoNNET"
      },
      "source": [
        "def cleandataset(df):\n",
        "  df['tenure_agrupado'] = create_bin_column(df, 'tenure', [0,14,45,999], ['0 a 14', '15 a 45', 'mais de 46'])\n",
        "\n",
        "  listainternet = {'No': 'No', 'DSL': 'Yes', 'Fiber optic': 'Yes'}\n",
        "\n",
        "  df['InternetService_agrupado'] = df['InternetService'].map(listainternet)\n",
        "\n",
        "  columns_list = df.columns.to_list()\n",
        "\n",
        "  df.drop(columns= ['OnlineSecurity', 'OnlineBackup', 'DeviceProtection', 'TechSupport', 'StreamingTV', 'StreamingMovies', 'InternetService_agrupado'])\n",
        "\n",
        "  dicionario = {'Yes': 1, 'No': 0}\n",
        "  df['Genero'] = df['gender'].map({'Male': 1, 'Female': 0}).astype(int)\n",
        "\n",
        "  df['Parceiro'] = df['Partner'].map(dicionario)\n",
        "  df['Dependente'] = df['Dependents'].map(dicionario)\n",
        "  df['TemServicoTelefonico'] = df['PhoneService'].map(dicionario)\n",
        "  df['ContaSemPapel'] = df['PaperlessBilling'].map(dicionario)\n",
        "  df['ClienteNovo'] = df['Cliente'].map({'Normal': 0, 'Premium':1})\n",
        "\n",
        "  dummies = ['MultipleLines', 'InternetService', 'Contract', 'PaymentMethod', 'tenure_agrupado']\n",
        "\n",
        "  df = pd.get_dummies(df, columns= dummies, drop_first=True)\n",
        "  return df"
      ],
      "execution_count": null,
      "outputs": []
    },
    {
      "cell_type": "code",
      "metadata": {
        "id": "4KChq-zmNfRU"
      },
      "source": [
        "cleandataset(dados_treino)"
      ],
      "execution_count": null,
      "outputs": []
    },
    {
      "cell_type": "code",
      "metadata": {
        "id": "lYvoo6hfODvY"
      },
      "source": [
        "def cleandataset_teste(df):\n",
        "  df['tenure_agrupado'] = create_bin_column(df, 'tenure', [0,14,45,999], ['0 a 14', '15 a 45', 'mais de 46'])\n",
        "\n",
        "  listainternet = {'No': 'No', 'DSL': 'Yes', 'Fiber optic': 'Yes'}\n",
        "\n",
        "  df['InternetService_agrupado'] = df['InternetService'].map(listainternet)\n",
        "\n",
        "  columns_list = df.columns.to_list()\n",
        "\n",
        "  df.drop(columns= ['OnlineSecurity', 'OnlineBackup', 'DeviceProtection', 'TechSupport', 'StreamingTV', 'StreamingMovies', 'InternetService_agrupado'])\n",
        "\n",
        "  dicionario = {'Yes': 1, 'No': 0}\n",
        "  df['Genero'] = df['gender'].map({'Male': 1, 'Female': 0}).astype(int)\n",
        "\n",
        "  df['Parceiro'] = df['Partner'].map(dicionario)\n",
        "  df['Dependente'] = df['Dependents'].map(dicionario)\n",
        "  df['TemServicoTelefonico'] = df['PhoneService'].map(dicionario)\n",
        "  df['ContaSemPapel'] = df['PaperlessBilling'].map(dicionario)\n",
        "\n",
        "  dummies = ['MultipleLines', 'InternetService', 'Contract', 'PaymentMethod', 'tenure_agrupado']\n",
        "\n",
        "  df = pd.get_dummies(df, columns= dummies, drop_first=True)\n",
        "  return df"
      ],
      "execution_count": null,
      "outputs": []
    },
    {
      "cell_type": "code",
      "metadata": {
        "id": "YB_XRQheOJQr"
      },
      "source": [
        "cleandataset_teste(dados_teste)"
      ],
      "execution_count": null,
      "outputs": []
    },
    {
      "cell_type": "code",
      "metadata": {
        "id": "Jm8SUBc0uTg-"
      },
      "source": [
        "dados_treino"
      ],
      "execution_count": null,
      "outputs": []
    },
    {
      "cell_type": "code",
      "metadata": {
        "id": "lVDIDNM9uVk1"
      },
      "source": [
        "dados_treino.nunique()\n"
      ],
      "execution_count": null,
      "outputs": []
    },
    {
      "cell_type": "code",
      "metadata": {
        "id": "tnTx2IL7wvBU"
      },
      "source": [
        "dados_treino.isnull().sum()"
      ],
      "execution_count": null,
      "outputs": []
    },
    {
      "cell_type": "code",
      "metadata": {
        "id": "IMr-FbIwzKIp"
      },
      "source": [
        "dados_treino['tenure'].plot(kind='hist', edgecolor='white')"
      ],
      "execution_count": null,
      "outputs": []
    },
    {
      "cell_type": "code",
      "metadata": {
        "id": "s8DiLHmW0LpJ"
      },
      "source": [
        "dados_treino['tenure'].describe()"
      ],
      "execution_count": null,
      "outputs": []
    },
    {
      "cell_type": "code",
      "metadata": {
        "id": "JhBu1mPt3Cee"
      },
      "source": [
        "dados_treino[dados_treino['Cliente'] == 'Premium']['tenure'].plot(kind='box')"
      ],
      "execution_count": null,
      "outputs": []
    },
    {
      "cell_type": "code",
      "metadata": {
        "id": "0KIYPVzl3_rf"
      },
      "source": [
        "import seaborn as sns\n",
        "sns.boxplot(x=\"tenure\", y=\"Cliente\", data=dados_treino)"
      ],
      "execution_count": null,
      "outputs": []
    },
    {
      "cell_type": "code",
      "metadata": {
        "id": "pGFpCG8T4u4h"
      },
      "source": [
        "dados_treino[dados_treino['tenure'] <= 14]['Cliente'].value_counts()"
      ],
      "execution_count": null,
      "outputs": []
    },
    {
      "cell_type": "code",
      "metadata": {
        "id": "QJFEUO695fG-"
      },
      "source": [
        "dados_treino['tenure'].value_counts()"
      ],
      "execution_count": null,
      "outputs": []
    },
    {
      "cell_type": "code",
      "metadata": {
        "id": "dMF9ugLU5l6R"
      },
      "source": [
        "dados_treino.corr()"
      ],
      "execution_count": null,
      "outputs": []
    },
    {
      "cell_type": "code",
      "metadata": {
        "id": "hz7Zat1E6fEd"
      },
      "source": [
        "sns.histplot(data=dados_treino, x=\"tenure\", hue=\"Cliente\")"
      ],
      "execution_count": null,
      "outputs": []
    },
    {
      "cell_type": "code",
      "metadata": {
        "id": "cSAhlF8d8ADs"
      },
      "source": [
        "def create_bin_column(df, column_to_bin, bins, bins_labels):\n",
        "  return pd.cut(x = df[column_to_bin], bins = bins, labels = bins_labels)"
      ],
      "execution_count": null,
      "outputs": []
    },
    {
      "cell_type": "code",
      "metadata": {
        "id": "KORcCFFa8xSM"
      },
      "source": [
        "create_bin_column(dados_treino, 'tenure', [0,14,45,999], ['0 a 14', '15 a 45', 'mais de 46'])"
      ],
      "execution_count": null,
      "outputs": []
    },
    {
      "cell_type": "code",
      "metadata": {
        "id": "xB-rQ9JfLmOz"
      },
      "source": [
        "create_bin_column(dados_treino, 'tenure', [0,14,45,999], ['0 a 14', '15 a 45', 'mais de 46'])"
      ],
      "execution_count": null,
      "outputs": []
    },
    {
      "cell_type": "code",
      "metadata": {
        "id": "TaWY05CG9YCB"
      },
      "source": [
        "dados_treino['tenure_agrupado'] = create_bin_column(dados_treino, 'tenure', [0,14,45,999], ['0 a 14', '15 a 45', 'mais de 46'])"
      ],
      "execution_count": null,
      "outputs": []
    },
    {
      "cell_type": "code",
      "metadata": {
        "id": "XogCPaGs9irY"
      },
      "source": [
        "dados_treino['tenure_agrupado'].value_counts()"
      ],
      "execution_count": null,
      "outputs": []
    },
    {
      "cell_type": "code",
      "metadata": {
        "id": "7TpkclZf9mKG"
      },
      "source": [
        "dados_treino.nunique()"
      ],
      "execution_count": null,
      "outputs": []
    },
    {
      "cell_type": "code",
      "metadata": {
        "id": "L8lXixLD-8mV"
      },
      "source": [
        "sns.histplot(data=dados_treino, x=\"Contract\", hue=\"Cliente\", multiple='fill')"
      ],
      "execution_count": null,
      "outputs": []
    },
    {
      "cell_type": "code",
      "metadata": {
        "id": "qpHFG6Gm_eRF"
      },
      "source": [
        "listainternet = {'No': 'No', 'DSL': 'Yes', 'Fiber optic': 'Yes'}\n",
        "\n",
        "dados_treino['InternetService_agrupado'] = dados_treino['InternetService'].map(listainternet)"
      ],
      "execution_count": null,
      "outputs": []
    },
    {
      "cell_type": "code",
      "metadata": {
        "id": "bFx90i4RBdys"
      },
      "source": [
        "dados_treino['InternetService_agrupado']"
      ],
      "execution_count": null,
      "outputs": []
    },
    {
      "cell_type": "code",
      "metadata": {
        "id": "g2IN8CAmBnTN"
      },
      "source": [
        "data_crosstab = pd.crosstab(dados_treino['Cliente'],\n",
        "                            dados_treino['OnlineSecurity'], \n",
        "                               margins = True)\n",
        "print(data_crosstab)"
      ],
      "execution_count": null,
      "outputs": []
    },
    {
      "cell_type": "code",
      "metadata": {
        "id": "9IyNg2QsDL1l"
      },
      "source": [
        "import scipy as scipy\n",
        "scipy.stats.chi2_contingency(data_crosstab)[1]"
      ],
      "execution_count": null,
      "outputs": []
    },
    {
      "cell_type": "code",
      "metadata": {
        "id": "iFTVK55QF4Sw"
      },
      "source": [
        "columns_list = dados_treino.columns.to_list()"
      ],
      "execution_count": null,
      "outputs": []
    },
    {
      "cell_type": "code",
      "metadata": {
        "id": "gcmutt7_D4aN"
      },
      "source": [
        "def create_qui_squared(column_to_check):\n",
        "  ls = []\n",
        "  for column in columns_list:\n",
        "    data_crosstab = pd.crosstab(dados_treino[column_to_check],\n",
        "                                dados_treino[column], \n",
        "                                margins = False)\n",
        "    ls.append(scipy.stats.chi2_contingency(data_crosstab)[1])\n",
        "  df = pd.DataFrame(list(zip(columns_list, ls)))\n",
        "  return df[df[1] == 0]"
      ],
      "execution_count": null,
      "outputs": []
    },
    {
      "cell_type": "code",
      "metadata": {
        "id": "8jw1QmbpH8YD"
      },
      "source": [
        "create_qui_squared('InternetService')"
      ],
      "execution_count": null,
      "outputs": []
    },
    {
      "cell_type": "code",
      "metadata": {
        "id": "kg9G_MMbKFK-"
      },
      "source": [
        "dados_treino.drop(columns= ['OnlineSecurity', 'OnlineBackup', 'DeviceProtection', 'TechSupport', 'StreamingTV', 'StreamingMovies', 'InternetService_agrupado'])"
      ],
      "execution_count": null,
      "outputs": []
    },
    {
      "cell_type": "code",
      "metadata": {
        "id": "F02JwEPnO0if"
      },
      "source": [
        "dicionario = {'Yes': 1, 'No': 0}\n"
      ],
      "execution_count": null,
      "outputs": []
    },
    {
      "cell_type": "code",
      "metadata": {
        "id": "4q4T9e1aO_Xr"
      },
      "source": [
        "dados_treino['Genero'] = dados_treino['gender'].map({'Male': 1, 'Female': 0}).astype(int)\n",
        "\n",
        "dados_treino['Parceiro'] = dados_treino['Partner'].map(dicionario)\n",
        "dados_treino['Dependente'] = dados_treino['Dependents'].map(dicionario)\n",
        "dados_treino['TemServicoTelefonico'] = dados_treino['PhoneService'].map(dicionario)\n",
        "dados_treino['ContaSemPapel'] = dados_treino['PaperlessBilling'].map(dicionario)\n",
        "dados_treino['ClienteNovo'] = dados_treino['Cliente'].map({'Normal': 0, 'Premium':1})"
      ],
      "execution_count": null,
      "outputs": []
    },
    {
      "cell_type": "code",
      "metadata": {
        "id": "CYtU6swXPgof"
      },
      "source": [
        "dummies = ['MultipleLines', 'InternetService', 'Contract', 'PaymentMethod', 'tenure_agrupado']\n",
        "\n",
        "dados_treino = pd.get_dummies(dados_treino, columns= dummies, drop_first=True)"
      ],
      "execution_count": null,
      "outputs": []
    },
    {
      "cell_type": "code",
      "metadata": {
        "id": "Sn2PsrIAQWQI"
      },
      "source": [
        "dados_treino"
      ],
      "execution_count": null,
      "outputs": []
    },
    {
      "cell_type": "code",
      "metadata": {
        "id": "AIZxvbX_QhYs"
      },
      "source": [
        "dados_treino.columns.to_list()"
      ],
      "execution_count": null,
      "outputs": []
    },
    {
      "cell_type": "code",
      "metadata": {
        "id": "_Bcxpg48KUK_"
      },
      "source": [
        "#Criação do modelo\n",
        "\n",
        "\n",
        "\n",
        "X = dados_treino[['Genero',\n",
        " 'Parceiro',\n",
        " 'Dependente',\n",
        " 'TemServicoTelefonico',\n",
        " 'ContaSemPapel',\n",
        " 'ClienteNovo',\n",
        " 'MultipleLines_No phone service',\n",
        " 'MultipleLines_Yes',\n",
        " 'InternetService_Fiber optic',\n",
        " 'InternetService_No',\n",
        " 'Contract_One year',\n",
        " 'Contract_Two year',\n",
        " 'PaymentMethod_Credit card (automatic)',\n",
        " 'PaymentMethod_Electronic check',\n",
        " 'PaymentMethod_Mailed check',\n",
        " 'tenure_agrupado_15 a 45',\n",
        " 'tenure_agrupado_mais de 46'\n",
        " ]]\n",
        "\n",
        "y = dados_treino['ClienteNovo']"
      ],
      "execution_count": null,
      "outputs": []
    },
    {
      "cell_type": "code",
      "metadata": {
        "id": "vgZ1EYJuL9YF"
      },
      "source": [
        "from sklearn.model_selection import KFold\n",
        "from sklearn.model_selection import cross_val_score\n",
        "from sklearn.model_selection import cross_validate\n",
        "from sklearn.ensemble import RandomForestClassifier\n",
        "from sklearn.linear_model import LogisticRegression\n",
        "from sklearn.neighbors import KNeighborsRegressor\n",
        "from sklearn.model_selection import train_test_split"
      ],
      "execution_count": null,
      "outputs": []
    },
    {
      "cell_type": "code",
      "metadata": {
        "id": "9pp3HHuoMULg"
      },
      "source": [
        "modelo =RandomForestClassifier(n_estimators= 500, max_depth=5)\n"
      ],
      "execution_count": null,
      "outputs": []
    },
    {
      "cell_type": "code",
      "metadata": {
        "id": "fh0xLZfkw-Ei"
      },
      "source": [
        "modelo.fit(X, y)"
      ],
      "execution_count": null,
      "outputs": []
    },
    {
      "cell_type": "code",
      "metadata": {
        "id": "ve6LJlA_SNXx"
      },
      "source": [
        "validacao = KFold(n_splits=4, shuffle= True)\n",
        "\n",
        "#medidas = cross_val_score(modelo, X, y, cv = validacao, scoring='f1')\n",
        "\n",
        "medidas = cross_validate(modelo, X, y, cv = validacao, scoring=['f1', 'accuracy'] )"
      ],
      "execution_count": null,
      "outputs": []
    },
    {
      "cell_type": "code",
      "metadata": {
        "id": "02Fm5BejN33N"
      },
      "source": [
        "medidas"
      ],
      "execution_count": null,
      "outputs": []
    },
    {
      "cell_type": "code",
      "metadata": {
        "id": "BpkaJ7Xcbkb6"
      },
      "source": [],
      "execution_count": null,
      "outputs": []
    },
    {
      "cell_type": "code",
      "metadata": {
        "id": "djYsZY7kJ5WX"
      },
      "source": [],
      "execution_count": null,
      "outputs": []
    }
  ]
}